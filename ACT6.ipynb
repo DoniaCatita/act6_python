{
 "cells": [
  {
   "cell_type": "markdown",
   "id": "44179a72-5854-49ec-a12b-57163eeed862",
   "metadata": {},
   "source": [
    "# Solución "
   ]
  },
  {
   "cell_type": "markdown",
   "id": "a0700f0f",
   "metadata": {},
   "source": [
    "## Parte I: Consigna a resolver"
   ]
  },
  {
   "cell_type": "markdown",
   "id": "098b15a5-aad1-434c-9837-2afa37b2707e",
   "metadata": {},
   "source": [
    "### Ejercicio 1:"
   ]
  },
  {
   "cell_type": "markdown",
   "id": "220da369",
   "metadata": {},
   "source": [
    "EJERCICIO 1. Escribí una función que devuelva todos los registros de los usuarios que\n",
    "ingresaron al foro de armado de grupo ordenados por Nombre completo de usuario.\n",
    "Nota: la información sobre el ingreso al foro de armado de grupo se obtiene\n",
    "verificando que la columna \"Contexto del evento\" sea igual a 'Foro: Foro armado de\n",
    "grupo' y la columna 'Nombre evento' sea igual a 'Módulo de curso visto'."
   ]
  },
  {
   "cell_type": "code",
   "execution_count": 1,
   "id": "3e04cd0a-2917-44ab-8e7b-ced12e1bccb6",
   "metadata": {},
   "outputs": [],
   "source": [
    "import pandas as pd\n",
    "from pathlib import Path\n",
    "path_csv = Path('archivos')\n",
    "data_csv = 'logs_catedra.csv'\n",
    "\n",
    "def usuarios_que_accedieron_armado_de_grupo(df_original):\n",
    "    # filtro las filas que cumplen con la condición que busco\n",
    "    df_reducido = df_original[(df_original['Contexto del evento']=='Foro: Foro armado de grupo') & (df_original['Nombre evento']=='Módulo de curso visto')].copy()\n",
    "    # ordeno según el nombre de usuario\n",
    "    df_reducido = df_reducido.sort_values(by='Nombre completo del usuario')\n",
    "    return df_reducido"
   ]
  },
  {
   "cell_type": "markdown",
   "id": "5b4c8b10-cb9d-46b4-92b7-8b5b4a7d3f7f",
   "metadata": {},
   "source": [
    "### Ejercicio 2:"
   ]
  },
  {
   "cell_type": "markdown",
   "id": "ae75fda1",
   "metadata": {},
   "source": [
    "EJERCICIO 2. Utilizando la función anterior, elaborá un programa que muestre los\n",
    "nombres y la cantidad de registros del conjunto de datos completo para cada uno de\n",
    "los últimos cinco usuarios (sin repetición), según el criterio alfabético"
   ]
  },
  {
   "cell_type": "code",
   "execution_count": 2,
   "id": "6ef99cdd-413e-43bf-9568-a63f21888d19",
   "metadata": {},
   "outputs": [
    {
     "name": "stdout",
     "output_type": "stream",
     "text": [
      "Nombre completo del usuario\n",
      "Vulpix        570\n",
      "Wartortle     458\n",
      "Weepinbell    369\n",
      "Weezing       570\n",
      "Zapdos        682\n",
      "Name: Nombre completo del usuario, dtype: int64\n"
     ]
    }
   ],
   "source": [
    "df_log = pd.read_csv(path_csv / data_csv)\n",
    "# guardo los nombres de los últimos 5 usuarios en una lista\n",
    "ultimos_usuarios = list(usuarios_que_accedieron_armado_de_grupo(df_log)[\"Nombre completo del usuario\"].unique()[-5:])\n",
    "# me quedo con los registros de los usuarios que están en la lista\n",
    "registros_ultimos_usuarios = df_log[df_log[\"Nombre completo del usuario\"].isin(ultimos_usuarios)]\n",
    "# agrupo según nombre de usuario y cuento\n",
    "cantidad_registros = registros_ultimos_usuarios.groupby([\"Nombre completo del usuario\"])[\"Nombre completo del usuario\"].count()\n",
    "print(cantidad_registros)"
   ]
  },
  {
   "cell_type": "markdown",
   "id": "f07c2117",
   "metadata": {},
   "source": [
    "## Parte II - CUESTIONARIO"
   ]
  },
  {
   "cell_type": "markdown",
   "id": "aa51d0ba",
   "metadata": {},
   "source": [
    "### 1- ¿Es necesario ordenar de forma explícita los datos en el ejercicio 1?¿Por qué?\n",
    "RTA:\n",
    "\n",
    "Sí, es necesario, ya que al aplicar la máscara al dataframe para quedarnos solo con las filas que nos interesan, esas filas conservan el orden en el que aparecen en el dataframe original, el cual no está ordenado alfabéticamente como pide el enunciado, así que es necesario ordenarlo explícitamente"
   ]
  },
  {
   "cell_type": "markdown",
   "id": "726ce9bb",
   "metadata": {},
   "source": [
    "### 2- Mostrá en tu código algún objeto de tipo Dataframe y otro de tipo Series\n",
    "RTA:\n",
    "\n",
    "La diferencia entre Dataframe y Series es que los Dataframes son bidimensionales, es decir que tienen dos dimensiones (filas y columnas) mientras que las Series son unidimensionales, solo cuentan con una columna. Ambos tipos de datos cuentan con un índice. Un ejemplo de un objeto tipo Dataframe es el df_reducido que retorna la función, las mismas columnas que el Dataframe del archivo original solo que con menos filas, y usa un índice numérico, mientras que un objeto de tipo Series es cantidad_registros, ya que solo guarda el índice con los nombres de usuario y una columna con la cantidad de apariciones de cada usuario."
   ]
  },
  {
   "cell_type": "code",
   "execution_count": 3,
   "id": "70af7bfd",
   "metadata": {},
   "outputs": [
    {
     "name": "stdout",
     "output_type": "stream",
     "text": [
      "<class 'pandas.core.frame.DataFrame'>\n",
      "<class 'pandas.core.series.Series'>\n"
     ]
    }
   ],
   "source": [
    "df_reducido = usuarios_que_accedieron_armado_de_grupo(df_log)\n",
    "print(type(df_reducido))\n",
    "print(type(cantidad_registros))"
   ]
  },
  {
   "cell_type": "markdown",
   "id": "c61c2c5c",
   "metadata": {},
   "source": [
    "### 3.¿De qué manera podemos obtener la cantidad de filas y columnas del dataframe? Ejemplificá con los objetos mostrados anteriormente\n",
    "RTA: \n",
    "\n",
    "Para obtener la cantidad de filas y columnas podemos usar el método .shape, que devuelve una tupla con el formato (cantidad_filas,cantidad_columnas)\n",
    "Por ejemplo, para saber la cantidad de filas y columnas de df_reducido podemos escribir df_reducido.shape\n",
    "También puede aplicarse a cantidad_registros, pero al ser de tipo Series, va a devolver una tupla de un solo numero, correspondiente a la cantidad de elementos de la serie."
   ]
  },
  {
   "cell_type": "code",
   "execution_count": 4,
   "id": "c034314d",
   "metadata": {},
   "outputs": [
    {
     "name": "stdout",
     "output_type": "stream",
     "text": [
      "(347, 8)\n",
      "(5,)\n"
     ]
    }
   ],
   "source": [
    "print(df_reducido.shape)\n",
    "print(cantidad_registros.shape)"
   ]
  },
  {
   "cell_type": "markdown",
   "id": "a8c90a04",
   "metadata": {},
   "source": [
    "# Parte III: interacción con IAs\n",
    "\n",
    "### 1. Mostrá dos soluciones dadas por dos IAs al ejercicio 1 y respondé"
   ]
  },
  {
   "cell_type": "markdown",
   "id": "8a173554",
   "metadata": {},
   "source": [
    "Prompt usado para las IAs:\n",
    "\n",
    "Dado un archivo CSV que cuenta con el siguiente encabezado: \",Hora,Nombre completo del usuario,Usuario afectado,Contexto del evento,Componente,Nombre evento,Dirección IP\" Podrías mostrarme una resolución en Python, usando Pandas, a este enunciado?:  EJERCICIO 1. Escribí una función que devuelva todos los registros de los usuarios que \n",
    "ingresaron al foro de armado de grupo ordenados por Nombre completo de usuario.\n",
    "Nota: la información sobre el ingreso al foro de armado de grupo se obtiene\n",
    "verificando que la columna \"Contexto del evento\" sea igual a 'Foro: Foro armado de\n",
    "grupo' y la columna 'Nombre evento' sea igual a 'Módulo de curso visto'."
   ]
  },
  {
   "cell_type": "code",
   "execution_count": 5,
   "id": "a562b4a4",
   "metadata": {},
   "outputs": [
    {
     "ename": "FileNotFoundError",
     "evalue": "[Errno 2] No such file or directory: 'eventos.csv'",
     "output_type": "error",
     "traceback": [
      "\u001b[31m---------------------------------------------------------------------------\u001b[39m",
      "\u001b[31mFileNotFoundError\u001b[39m                         Traceback (most recent call last)",
      "\u001b[36mCell\u001b[39m\u001b[36m \u001b[39m\u001b[32mIn[5]\u001b[39m\u001b[32m, line 22\u001b[39m\n\u001b[32m     19\u001b[39m     \u001b[38;5;28;01mreturn\u001b[39;00m df_ordenado\n\u001b[32m     21\u001b[39m \u001b[38;5;66;03m# Suponiendo que el archivo se llama 'eventos.csv'\u001b[39;00m\n\u001b[32m---> \u001b[39m\u001b[32m22\u001b[39m resultado = \u001b[43mobtener_ingresos_foro_armado\u001b[49m\u001b[43m(\u001b[49m\u001b[33;43m'\u001b[39;49m\u001b[33;43meventos.csv\u001b[39;49m\u001b[33;43m'\u001b[39;49m\u001b[43m)\u001b[49m\n\u001b[32m     24\u001b[39m \u001b[38;5;66;03m# Mostrar los primeros registros\u001b[39;00m\n\u001b[32m     25\u001b[39m \u001b[38;5;28mprint\u001b[39m(resultado.head())\n",
      "\u001b[36mCell\u001b[39m\u001b[36m \u001b[39m\u001b[32mIn[5]\u001b[39m\u001b[32m, line 7\u001b[39m, in \u001b[36mobtener_ingresos_foro_armado\u001b[39m\u001b[34m(csv_path)\u001b[39m\n\u001b[32m      5\u001b[39m \u001b[38;5;28;01mdef\u001b[39;00m\u001b[38;5;250m \u001b[39m\u001b[34mobtener_ingresos_foro_armado\u001b[39m(csv_path):\n\u001b[32m      6\u001b[39m     \u001b[38;5;66;03m# Cargar el archivo CSV, ignorando la primera columna vacía si existe\u001b[39;00m\n\u001b[32m----> \u001b[39m\u001b[32m7\u001b[39m     df = \u001b[43mpd\u001b[49m\u001b[43m.\u001b[49m\u001b[43mread_csv\u001b[49m\u001b[43m(\u001b[49m\u001b[43mcsv_path\u001b[49m\u001b[43m)\u001b[49m\n\u001b[32m      9\u001b[39m     \u001b[38;5;66;03m# Filtrar según los criterios dados\u001b[39;00m\n\u001b[32m     10\u001b[39m     filtro = (\n\u001b[32m     11\u001b[39m         (df[\u001b[33m'\u001b[39m\u001b[33mContexto del evento\u001b[39m\u001b[33m'\u001b[39m] == \u001b[33m'\u001b[39m\u001b[33mForo: Foro armado de grupo\u001b[39m\u001b[33m'\u001b[39m) &\n\u001b[32m     12\u001b[39m         (df[\u001b[33m'\u001b[39m\u001b[33mNombre evento\u001b[39m\u001b[33m'\u001b[39m] == \u001b[33m'\u001b[39m\u001b[33mMódulo de curso visto\u001b[39m\u001b[33m'\u001b[39m)\n\u001b[32m     13\u001b[39m     )\n",
      "\u001b[36mFile \u001b[39m\u001b[32mc:\\Users\\catab\\AppData\\Local\\Programs\\Python\\Python312\\Lib\\site-packages\\pandas\\io\\parsers\\readers.py:1026\u001b[39m, in \u001b[36mread_csv\u001b[39m\u001b[34m(filepath_or_buffer, sep, delimiter, header, names, index_col, usecols, dtype, engine, converters, true_values, false_values, skipinitialspace, skiprows, skipfooter, nrows, na_values, keep_default_na, na_filter, verbose, skip_blank_lines, parse_dates, infer_datetime_format, keep_date_col, date_parser, date_format, dayfirst, cache_dates, iterator, chunksize, compression, thousands, decimal, lineterminator, quotechar, quoting, doublequote, escapechar, comment, encoding, encoding_errors, dialect, on_bad_lines, delim_whitespace, low_memory, memory_map, float_precision, storage_options, dtype_backend)\u001b[39m\n\u001b[32m   1013\u001b[39m kwds_defaults = _refine_defaults_read(\n\u001b[32m   1014\u001b[39m     dialect,\n\u001b[32m   1015\u001b[39m     delimiter,\n\u001b[32m   (...)\u001b[39m\u001b[32m   1022\u001b[39m     dtype_backend=dtype_backend,\n\u001b[32m   1023\u001b[39m )\n\u001b[32m   1024\u001b[39m kwds.update(kwds_defaults)\n\u001b[32m-> \u001b[39m\u001b[32m1026\u001b[39m \u001b[38;5;28;01mreturn\u001b[39;00m \u001b[43m_read\u001b[49m\u001b[43m(\u001b[49m\u001b[43mfilepath_or_buffer\u001b[49m\u001b[43m,\u001b[49m\u001b[43m \u001b[49m\u001b[43mkwds\u001b[49m\u001b[43m)\u001b[49m\n",
      "\u001b[36mFile \u001b[39m\u001b[32mc:\\Users\\catab\\AppData\\Local\\Programs\\Python\\Python312\\Lib\\site-packages\\pandas\\io\\parsers\\readers.py:620\u001b[39m, in \u001b[36m_read\u001b[39m\u001b[34m(filepath_or_buffer, kwds)\u001b[39m\n\u001b[32m    617\u001b[39m _validate_names(kwds.get(\u001b[33m\"\u001b[39m\u001b[33mnames\u001b[39m\u001b[33m\"\u001b[39m, \u001b[38;5;28;01mNone\u001b[39;00m))\n\u001b[32m    619\u001b[39m \u001b[38;5;66;03m# Create the parser.\u001b[39;00m\n\u001b[32m--> \u001b[39m\u001b[32m620\u001b[39m parser = \u001b[43mTextFileReader\u001b[49m\u001b[43m(\u001b[49m\u001b[43mfilepath_or_buffer\u001b[49m\u001b[43m,\u001b[49m\u001b[43m \u001b[49m\u001b[43m*\u001b[49m\u001b[43m*\u001b[49m\u001b[43mkwds\u001b[49m\u001b[43m)\u001b[49m\n\u001b[32m    622\u001b[39m \u001b[38;5;28;01mif\u001b[39;00m chunksize \u001b[38;5;129;01mor\u001b[39;00m iterator:\n\u001b[32m    623\u001b[39m     \u001b[38;5;28;01mreturn\u001b[39;00m parser\n",
      "\u001b[36mFile \u001b[39m\u001b[32mc:\\Users\\catab\\AppData\\Local\\Programs\\Python\\Python312\\Lib\\site-packages\\pandas\\io\\parsers\\readers.py:1620\u001b[39m, in \u001b[36mTextFileReader.__init__\u001b[39m\u001b[34m(self, f, engine, **kwds)\u001b[39m\n\u001b[32m   1617\u001b[39m     \u001b[38;5;28mself\u001b[39m.options[\u001b[33m\"\u001b[39m\u001b[33mhas_index_names\u001b[39m\u001b[33m\"\u001b[39m] = kwds[\u001b[33m\"\u001b[39m\u001b[33mhas_index_names\u001b[39m\u001b[33m\"\u001b[39m]\n\u001b[32m   1619\u001b[39m \u001b[38;5;28mself\u001b[39m.handles: IOHandles | \u001b[38;5;28;01mNone\u001b[39;00m = \u001b[38;5;28;01mNone\u001b[39;00m\n\u001b[32m-> \u001b[39m\u001b[32m1620\u001b[39m \u001b[38;5;28mself\u001b[39m._engine = \u001b[38;5;28;43mself\u001b[39;49m\u001b[43m.\u001b[49m\u001b[43m_make_engine\u001b[49m\u001b[43m(\u001b[49m\u001b[43mf\u001b[49m\u001b[43m,\u001b[49m\u001b[43m \u001b[49m\u001b[38;5;28;43mself\u001b[39;49m\u001b[43m.\u001b[49m\u001b[43mengine\u001b[49m\u001b[43m)\u001b[49m\n",
      "\u001b[36mFile \u001b[39m\u001b[32mc:\\Users\\catab\\AppData\\Local\\Programs\\Python\\Python312\\Lib\\site-packages\\pandas\\io\\parsers\\readers.py:1880\u001b[39m, in \u001b[36mTextFileReader._make_engine\u001b[39m\u001b[34m(self, f, engine)\u001b[39m\n\u001b[32m   1878\u001b[39m     \u001b[38;5;28;01mif\u001b[39;00m \u001b[33m\"\u001b[39m\u001b[33mb\u001b[39m\u001b[33m\"\u001b[39m \u001b[38;5;129;01mnot\u001b[39;00m \u001b[38;5;129;01min\u001b[39;00m mode:\n\u001b[32m   1879\u001b[39m         mode += \u001b[33m\"\u001b[39m\u001b[33mb\u001b[39m\u001b[33m\"\u001b[39m\n\u001b[32m-> \u001b[39m\u001b[32m1880\u001b[39m \u001b[38;5;28mself\u001b[39m.handles = \u001b[43mget_handle\u001b[49m\u001b[43m(\u001b[49m\n\u001b[32m   1881\u001b[39m \u001b[43m    \u001b[49m\u001b[43mf\u001b[49m\u001b[43m,\u001b[49m\n\u001b[32m   1882\u001b[39m \u001b[43m    \u001b[49m\u001b[43mmode\u001b[49m\u001b[43m,\u001b[49m\n\u001b[32m   1883\u001b[39m \u001b[43m    \u001b[49m\u001b[43mencoding\u001b[49m\u001b[43m=\u001b[49m\u001b[38;5;28;43mself\u001b[39;49m\u001b[43m.\u001b[49m\u001b[43moptions\u001b[49m\u001b[43m.\u001b[49m\u001b[43mget\u001b[49m\u001b[43m(\u001b[49m\u001b[33;43m\"\u001b[39;49m\u001b[33;43mencoding\u001b[39;49m\u001b[33;43m\"\u001b[39;49m\u001b[43m,\u001b[49m\u001b[43m \u001b[49m\u001b[38;5;28;43;01mNone\u001b[39;49;00m\u001b[43m)\u001b[49m\u001b[43m,\u001b[49m\n\u001b[32m   1884\u001b[39m \u001b[43m    \u001b[49m\u001b[43mcompression\u001b[49m\u001b[43m=\u001b[49m\u001b[38;5;28;43mself\u001b[39;49m\u001b[43m.\u001b[49m\u001b[43moptions\u001b[49m\u001b[43m.\u001b[49m\u001b[43mget\u001b[49m\u001b[43m(\u001b[49m\u001b[33;43m\"\u001b[39;49m\u001b[33;43mcompression\u001b[39;49m\u001b[33;43m\"\u001b[39;49m\u001b[43m,\u001b[49m\u001b[43m \u001b[49m\u001b[38;5;28;43;01mNone\u001b[39;49;00m\u001b[43m)\u001b[49m\u001b[43m,\u001b[49m\n\u001b[32m   1885\u001b[39m \u001b[43m    \u001b[49m\u001b[43mmemory_map\u001b[49m\u001b[43m=\u001b[49m\u001b[38;5;28;43mself\u001b[39;49m\u001b[43m.\u001b[49m\u001b[43moptions\u001b[49m\u001b[43m.\u001b[49m\u001b[43mget\u001b[49m\u001b[43m(\u001b[49m\u001b[33;43m\"\u001b[39;49m\u001b[33;43mmemory_map\u001b[39;49m\u001b[33;43m\"\u001b[39;49m\u001b[43m,\u001b[49m\u001b[43m \u001b[49m\u001b[38;5;28;43;01mFalse\u001b[39;49;00m\u001b[43m)\u001b[49m\u001b[43m,\u001b[49m\n\u001b[32m   1886\u001b[39m \u001b[43m    \u001b[49m\u001b[43mis_text\u001b[49m\u001b[43m=\u001b[49m\u001b[43mis_text\u001b[49m\u001b[43m,\u001b[49m\n\u001b[32m   1887\u001b[39m \u001b[43m    \u001b[49m\u001b[43merrors\u001b[49m\u001b[43m=\u001b[49m\u001b[38;5;28;43mself\u001b[39;49m\u001b[43m.\u001b[49m\u001b[43moptions\u001b[49m\u001b[43m.\u001b[49m\u001b[43mget\u001b[49m\u001b[43m(\u001b[49m\u001b[33;43m\"\u001b[39;49m\u001b[33;43mencoding_errors\u001b[39;49m\u001b[33;43m\"\u001b[39;49m\u001b[43m,\u001b[49m\u001b[43m \u001b[49m\u001b[33;43m\"\u001b[39;49m\u001b[33;43mstrict\u001b[39;49m\u001b[33;43m\"\u001b[39;49m\u001b[43m)\u001b[49m\u001b[43m,\u001b[49m\n\u001b[32m   1888\u001b[39m \u001b[43m    \u001b[49m\u001b[43mstorage_options\u001b[49m\u001b[43m=\u001b[49m\u001b[38;5;28;43mself\u001b[39;49m\u001b[43m.\u001b[49m\u001b[43moptions\u001b[49m\u001b[43m.\u001b[49m\u001b[43mget\u001b[49m\u001b[43m(\u001b[49m\u001b[33;43m\"\u001b[39;49m\u001b[33;43mstorage_options\u001b[39;49m\u001b[33;43m\"\u001b[39;49m\u001b[43m,\u001b[49m\u001b[43m \u001b[49m\u001b[38;5;28;43;01mNone\u001b[39;49;00m\u001b[43m)\u001b[49m\u001b[43m,\u001b[49m\n\u001b[32m   1889\u001b[39m \u001b[43m\u001b[49m\u001b[43m)\u001b[49m\n\u001b[32m   1890\u001b[39m \u001b[38;5;28;01massert\u001b[39;00m \u001b[38;5;28mself\u001b[39m.handles \u001b[38;5;129;01mis\u001b[39;00m \u001b[38;5;129;01mnot\u001b[39;00m \u001b[38;5;28;01mNone\u001b[39;00m\n\u001b[32m   1891\u001b[39m f = \u001b[38;5;28mself\u001b[39m.handles.handle\n",
      "\u001b[36mFile \u001b[39m\u001b[32mc:\\Users\\catab\\AppData\\Local\\Programs\\Python\\Python312\\Lib\\site-packages\\pandas\\io\\common.py:873\u001b[39m, in \u001b[36mget_handle\u001b[39m\u001b[34m(path_or_buf, mode, encoding, compression, memory_map, is_text, errors, storage_options)\u001b[39m\n\u001b[32m    868\u001b[39m \u001b[38;5;28;01melif\u001b[39;00m \u001b[38;5;28misinstance\u001b[39m(handle, \u001b[38;5;28mstr\u001b[39m):\n\u001b[32m    869\u001b[39m     \u001b[38;5;66;03m# Check whether the filename is to be opened in binary mode.\u001b[39;00m\n\u001b[32m    870\u001b[39m     \u001b[38;5;66;03m# Binary mode does not support 'encoding' and 'newline'.\u001b[39;00m\n\u001b[32m    871\u001b[39m     \u001b[38;5;28;01mif\u001b[39;00m ioargs.encoding \u001b[38;5;129;01mand\u001b[39;00m \u001b[33m\"\u001b[39m\u001b[33mb\u001b[39m\u001b[33m\"\u001b[39m \u001b[38;5;129;01mnot\u001b[39;00m \u001b[38;5;129;01min\u001b[39;00m ioargs.mode:\n\u001b[32m    872\u001b[39m         \u001b[38;5;66;03m# Encoding\u001b[39;00m\n\u001b[32m--> \u001b[39m\u001b[32m873\u001b[39m         handle = \u001b[38;5;28;43mopen\u001b[39;49m\u001b[43m(\u001b[49m\n\u001b[32m    874\u001b[39m \u001b[43m            \u001b[49m\u001b[43mhandle\u001b[49m\u001b[43m,\u001b[49m\n\u001b[32m    875\u001b[39m \u001b[43m            \u001b[49m\u001b[43mioargs\u001b[49m\u001b[43m.\u001b[49m\u001b[43mmode\u001b[49m\u001b[43m,\u001b[49m\n\u001b[32m    876\u001b[39m \u001b[43m            \u001b[49m\u001b[43mencoding\u001b[49m\u001b[43m=\u001b[49m\u001b[43mioargs\u001b[49m\u001b[43m.\u001b[49m\u001b[43mencoding\u001b[49m\u001b[43m,\u001b[49m\n\u001b[32m    877\u001b[39m \u001b[43m            \u001b[49m\u001b[43merrors\u001b[49m\u001b[43m=\u001b[49m\u001b[43merrors\u001b[49m\u001b[43m,\u001b[49m\n\u001b[32m    878\u001b[39m \u001b[43m            \u001b[49m\u001b[43mnewline\u001b[49m\u001b[43m=\u001b[49m\u001b[33;43m\"\u001b[39;49m\u001b[33;43m\"\u001b[39;49m\u001b[43m,\u001b[49m\n\u001b[32m    879\u001b[39m \u001b[43m        \u001b[49m\u001b[43m)\u001b[49m\n\u001b[32m    880\u001b[39m     \u001b[38;5;28;01melse\u001b[39;00m:\n\u001b[32m    881\u001b[39m         \u001b[38;5;66;03m# Binary mode\u001b[39;00m\n\u001b[32m    882\u001b[39m         handle = \u001b[38;5;28mopen\u001b[39m(handle, ioargs.mode)\n",
      "\u001b[31mFileNotFoundError\u001b[39m: [Errno 2] No such file or directory: 'eventos.csv'"
     ]
    }
   ],
   "source": [
    "# Solución dada por la IA 1 (ChatGPT)\n",
    "\n",
    "import pandas as pd\n",
    "\n",
    "def obtener_ingresos_foro_armado(csv_path):\n",
    "    # Cargar el archivo CSV, ignorando la primera columna vacía si existe\n",
    "    df = pd.read_csv(csv_path)\n",
    "\n",
    "    # Filtrar según los criterios dados\n",
    "    filtro = (\n",
    "        (df['Contexto del evento'] == 'Foro: Foro armado de grupo') &\n",
    "        (df['Nombre evento'] == 'Módulo de curso visto')\n",
    "    )\n",
    "    df_filtrado = df[filtro]\n",
    "\n",
    "    # Ordenar por 'Nombre completo del usuario'\n",
    "    df_ordenado = df_filtrado.sort_values(by='Nombre completo del usuario')\n",
    "\n",
    "    return df_ordenado\n",
    "\n",
    "# Suponiendo que el archivo se llama 'eventos.csv'\n",
    "resultado = obtener_ingresos_foro_armado('eventos.csv')\n",
    "\n",
    "# Mostrar los primeros registros\n",
    "print(resultado.head())"
   ]
  },
  {
   "cell_type": "code",
   "execution_count": null,
   "id": "deac5e80",
   "metadata": {},
   "outputs": [],
   "source": [
    "# Solución dada por la IA 2 (DeepSeek)\n",
    "\n",
    "import pandas as pd\n",
    "\n",
    "def filtrar_usuarios_foro_armado(ruta_archivo):\n",
    "    \"\"\"\n",
    "    Función que devuelve los registros de usuarios que ingresaron al foro de armado de grupo,\n",
    "    ordenados por nombre completo de usuario.\n",
    "    \n",
    "    Parámetros:\n",
    "    ruta_archivo (str): Ruta del archivo CSV a procesar\n",
    "    \n",
    "    Retorna:\n",
    "    DataFrame: Pandas DataFrame con los registros filtrados y ordenados\n",
    "    \"\"\"\n",
    "    # Leer el archivo CSV\n",
    "    df = pd.read_csv(ruta_archivo)\n",
    "    \n",
    "    # Filtrar los registros según las condiciones especificadas\n",
    "    filtro = (df['Contexto del evento'] == 'Foro: Foro armado de grupo') & \\\n",
    "             (df['Nombre evento'] == 'Módulo de curso visto')\n",
    "    df_filtrado = df[filtro]\n",
    "    \n",
    "    # Ordenar por nombre completo de usuario\n",
    "    df_ordenado = df_filtrado.sort_values('Nombre completo del usuario')\n",
    "    \n",
    "    return df_ordenado\n",
    "\n",
    "# Ejemplo de uso:\n",
    "# resultado = filtrar_usuarios_foro_armado('archivo.csv')\n",
    "# print(resultado)"
   ]
  },
  {
   "cell_type": "markdown",
   "id": "c7b03617",
   "metadata": {},
   "source": [
    "### 2. En las soluciones dadas, se incluyen funciones o métodos no dados por la cátedra?\n",
    "RTA:\n",
    "\n",
    "No, ambas soluciones son muy similares y utilizan funciones vistas durante las clases, quizás si no hubiese estado la nota de aclaración podrían haber sugerido alguna alternativa, aunque el método usado es probablemente de los más directos\n",
    "\n",
    "### 3. Compará ambas respuestas y explicá cual te parece mejor y porqué\n",
    "RTA:\n",
    "\n",
    "Como mencioné antes ambas soluciones son muy parecidas, no hay grandes diferencias, DeepSeek incluyó un Docstring, que es bastante útil, y el nombre que le asignó a la función tiene más sentido que el nombre de chatGPT, así que diría que es un poco mejor, lo que es un poco raro es que no haya nombrado el parámetro que le pasa a la función sort_values(), cosa que chatGPT sí hizo, y aunque no genera error porque está en la posición adecuada siento que le resta algo de claridad"
   ]
  }
 ],
 "metadata": {
  "kernelspec": {
   "display_name": "Python 3",
   "language": "python",
   "name": "python3"
  },
  "language_info": {
   "codemirror_mode": {
    "name": "ipython",
    "version": 3
   },
   "file_extension": ".py",
   "mimetype": "text/x-python",
   "name": "python",
   "nbconvert_exporter": "python",
   "pygments_lexer": "ipython3",
   "version": "3.12.9"
  }
 },
 "nbformat": 4,
 "nbformat_minor": 5
}
